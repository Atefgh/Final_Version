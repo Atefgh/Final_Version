{
 "cells": [
  {
   "cell_type": "code",
   "execution_count": 2,
   "metadata": {},
   "outputs": [
    {
     "name": "stdout",
     "output_type": "stream",
     "text": [
      "the city name = Paris\n",
      "{'request': {'type': 'City', 'query': 'Paris, France', 'language': 'en', 'unit': 'm'}, 'location': {'name': 'Paris', 'country': 'France', 'region': 'Ile-de-France', 'lat': '48.867', 'lon': '2.333', 'timezone_id': 'Europe/Paris', 'localtime': '2020-08-15 11:00', 'localtime_epoch': 1597489200, 'utc_offset': '2.0'}, 'current': {'observation_time': '09:00 AM', 'temperature': 21, 'weather_code': 116, 'weather_icons': ['https://assets.weatherstack.com/images/wsymbols01_png_64/wsymbol_0002_sunny_intervals.png'], 'weather_descriptions': ['Partly cloudy'], 'wind_speed': 6, 'wind_degree': 250, 'wind_dir': 'WSW', 'pressure': 1015, 'precip': 0, 'humidity': 83, 'cloudcover': 75, 'feelslike': 21, 'uv_index': 6, 'visibility': 10, 'is_day': 'yes'}}\n",
      "<pymongo.results.InsertOneResult object at 0x000001C0EB90B648>\n"
     ]
    }
   ],
   "source": [
    "import json\n",
    "import urllib.request as urllib\n",
    "import pymongo\n",
    "def getweather(city):\n",
    "    error_code = '''{error: {code: 1006,message: \"No matching location found.\"}}'''\n",
    "    url = \"http://api.weatherstack.com/current?access_key=96f633a68ad87e2ab43c4131ab9e415b&query=\"\n",
    "    myclient = pymongo.MongoClient('mongodb://localhost:27017/')\n",
    "    mydb = myclient['mydatabase']\n",
    "    #This is used to check whether the collection is there or not.\n",
    "    mycol = mydb[\"customers\"]\n",
    "    #-----------------------------------------------------------\n",
    "    #retrieves exported MongoDB data from database.\n",
    "    cursor=mycol.find()\n",
    "    docs=list(cursor)\n",
    "    #Retrieves only 25 documents initially.\n",
    "    docs=docs[:25]\n",
    "    #-------------------------------------------------------------\n",
    "    while (True): \n",
    "        ur = url + str(city)\n",
    "        response = urllib.urlopen(ur)\n",
    "        data = json.loads(response.read())\n",
    "        if( data == error_code ):\n",
    "            print(\"wrong city !, enter a valid city \")\n",
    "            city = str(input(\"the city name\"))\n",
    "        else:\n",
    "            break\n",
    "    print(data)\n",
    "    x = mycol.insert_one(data)\n",
    "    print(x) \n",
    "#data = { \"name\": \"John\", \"address\": \"Highway 37\" }\n",
    "city = input(\"the city name = \")\n",
    "getweather(city)  \n",
    "  "
   ]
  },
  {
   "cell_type": "code",
   "execution_count": 3,
   "metadata": {},
   "outputs": [
    {
     "name": "stdout",
     "output_type": "stream",
     "text": [
      "Requirement already satisfied: flask-socketio in c:\\programdata\\anaconda30\\lib\\site-packages (4.3.1)\n",
      "Requirement already satisfied: python-socketio>=4.3.0 in c:\\programdata\\anaconda30\\lib\\site-packages (from flask-socketio) (4.6.0)\n",
      "Requirement already satisfied: Flask>=0.9 in c:\\programdata\\anaconda30\\lib\\site-packages (from flask-socketio) (1.1.1)\n",
      "Requirement already satisfied: python-engineio>=3.13.0 in c:\\programdata\\anaconda30\\lib\\site-packages (from python-socketio>=4.3.0->flask-socketio) (3.13.1)\n",
      "Requirement already satisfied: six>=1.9.0 in c:\\programdata\\anaconda30\\lib\\site-packages (from python-socketio>=4.3.0->flask-socketio) (1.12.0)\n",
      "Requirement already satisfied: Jinja2>=2.10.1 in c:\\programdata\\anaconda30\\lib\\site-packages (from Flask>=0.9->flask-socketio) (2.10.3)\n",
      "Requirement already satisfied: itsdangerous>=0.24 in c:\\programdata\\anaconda30\\lib\\site-packages (from Flask>=0.9->flask-socketio) (1.1.0)\n",
      "Requirement already satisfied: Werkzeug>=0.15 in c:\\programdata\\anaconda30\\lib\\site-packages (from Flask>=0.9->flask-socketio) (0.16.0)\n",
      "Requirement already satisfied: click>=5.1 in c:\\programdata\\anaconda30\\lib\\site-packages (from Flask>=0.9->flask-socketio) (7.0)\n",
      "Requirement already satisfied: MarkupSafe>=0.23 in c:\\programdata\\anaconda30\\lib\\site-packages (from Jinja2>=2.10.1->Flask>=0.9->flask-socketio) (1.1.1)\n"
     ]
    }
   ],
   "source": [
    "!pip install flask-socketio"
   ]
  },
  {
   "cell_type": "code",
   "execution_count": 5,
   "metadata": {},
   "outputs": [
    {
     "ename": "IndentationError",
     "evalue": "unindent does not match any outer indentation level (<tokenize>, line 29)",
     "output_type": "error",
     "traceback": [
      "\u001b[1;36m  File \u001b[1;32m\"<tokenize>\"\u001b[1;36m, line \u001b[1;32m29\u001b[0m\n\u001b[1;33m    if data['event'] == \"start\":\u001b[0m\n\u001b[1;37m    ^\u001b[0m\n\u001b[1;31mIndentationError\u001b[0m\u001b[1;31m:\u001b[0m unindent does not match any outer indentation level\n"
     ]
    }
   ],
   "source": [
    "from flask import Flask\n",
    "from flask_sockets import Sockets\n",
    "\n",
    "app = Flask(__name__)\n",
    "sockets = Sockets(app)\n",
    "\n",
    "HTTP_SERVER_PORT = 5000\n",
    "\n",
    "@sockets.route('/media')\n",
    "def echo(ws):\n",
    "if __name__ == '__main__':\n",
    "    app.logger.setLevel(logging.DEBUG)\n",
    "    from gevent import pywsgi\n",
    "    from geventwebsocket.handler import WebSocketHandler\n",
    "\n",
    "    server = pywsgi.WSGIServer(('', HTTP_SERVER_PORT), app, handler_class=WebSocketHandler)\n",
    "    print(\"Server listening on: http://localhost:\" + str(HTTP_SERVER_PORT))\n",
    "    server.serve_forever()\n",
    "while not ws.closed:\n",
    "        message = ws.receive()\n",
    "        if message is None:\n",
    "            app.logger.info(\"No message received...\")\n",
    "            continue\n",
    "            #.....................\n",
    "data = json.loads(message)\n",
    "#........................................\n",
    "if data['event'] == \"connected\":\n",
    "            app.logger.info(\"Connected Message received: {}\".format(message))\n",
    "        if data['event'] == \"start\":\n",
    "            app.logger.info(\"Start Message received: {}\".format(message))\n",
    "        if data['event'] == \"media\":\n",
    "            if not has_seen_media:\n",
    "                app.logger.info(\"Media message: {}\".format(message))\n",
    "                payload = data['media']['payload']\n",
    "                app.logger.info(\"Payload is: {}\".format(payload))\n",
    "                chunk = base64.b64decode(payload)\n",
    "                app.logger.info(\"That's {} bytes\".format(len(chunk)))\n",
    "                app.logger.info(\"Additional media messages from WebSocket are being suppressed....\")\n",
    "                has_seen_media = True\n",
    "        if data['event'] == \"closed\":\n",
    "            app.logger.info(\"Closed Message received: {}\".format(message))\n",
    "            break\n",
    "        message_count += 1"
   ]
  },
  {
   "cell_type": "code",
   "execution_count": null,
   "metadata": {},
   "outputs": [],
   "source": []
  },
  {
   "cell_type": "code",
   "execution_count": null,
   "metadata": {},
   "outputs": [],
   "source": []
  }
 ],
 "metadata": {
  "kernelspec": {
   "display_name": "Python 3",
   "language": "python",
   "name": "python3"
  },
  "language_info": {
   "codemirror_mode": {
    "name": "ipython",
    "version": 3
   },
   "file_extension": ".py",
   "mimetype": "text/x-python",
   "name": "python",
   "nbconvert_exporter": "python",
   "pygments_lexer": "ipython3",
   "version": "3.7.4"
  }
 },
 "nbformat": 4,
 "nbformat_minor": 2
}
